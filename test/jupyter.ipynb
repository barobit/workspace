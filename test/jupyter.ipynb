{
 "cells": [
  {
   "cell_type": "code",
   "execution_count": 2,
   "metadata": {},
   "outputs": [
    {
     "name": "stdout",
     "output_type": "stream",
     "text": [
      "hello world!\n"
     ]
    }
   ],
   "source": [
    "print(\"hello world!\")"
   ]
  },
  {
   "cell_type": "code",
   "execution_count": 6,
   "metadata": {},
   "outputs": [
    {
     "name": "stdout",
     "output_type": "stream",
     "text": [
      "knights Ni\n",
      "This spam is absolutely horrible\n"
     ]
    }
   ],
   "source": [
    "print('{} {}'.format('knights', 'Ni'))\n",
    "print('This {food} is {adjective}'.format(food='spam', adjective='absolutely horrible'))"
   ]
  },
  {
   "cell_type": "code",
   "execution_count": 54,
   "metadata": {},
   "outputs": [
    {
     "name": "stdout",
     "output_type": "stream",
     "text": [
      "a_func\n"
     ]
    }
   ],
   "source": [
    "def a_func(b_func):\n",
    "    print(\"a_func\")\n",
    "    def c_func():\n",
    "        print(\"b_func\")\n",
    "        b_func()\n",
    "    return c_func\n",
    "\n",
    "@a_func\n",
    "def d_func():\n",
    "    print(\"d_func\")\n",
    "\n",
    "print(\"############\")    \n",
    "d_func()"
   ]
  },
  {
   "cell_type": "code",
   "execution_count": 53,
   "metadata": {},
   "outputs": [
    {
     "name": "stdout",
     "output_type": "stream",
     "text": [
      "2 번째 카운트입니다.\n",
      "b_func\n",
      "############\n",
      "e_func\n"
     ]
    }
   ],
   "source": [
    "def a_func(count):\n",
    "    def b_func(c_func):\n",
    "        print(\"{} 번째 카운트입니다.\".format(count))\n",
    "        print(\"b_func\")\n",
    "        def d_func():\n",
    "            print(\"d_func\")\n",
    "            c_func()\n",
    "        return c_func\n",
    "    return b_func\n",
    "\n",
    "@a_func(2)\n",
    "def e_func():\n",
    "    print(\"e_func\")\n",
    "\n",
    "print(\"############\")\n",
    "e_func()\n"
   ]
  }
 ],
 "metadata": {
  "kernelspec": {
   "display_name": "Python 3",
   "language": "python",
   "name": "python3"
  },
  "language_info": {
   "codemirror_mode": {
    "name": "ipython",
    "version": 3
   },
   "file_extension": ".py",
   "mimetype": "text/x-python",
   "name": "python",
   "nbconvert_exporter": "python",
   "pygments_lexer": "ipython3",
   "version": "3.9.6"
  },
  "orig_nbformat": 4
 },
 "nbformat": 4,
 "nbformat_minor": 2
}
